{
 "cells": [
  {
   "cell_type": "markdown",
   "metadata": {
    "collapsed": false,
    "scrolled": true
   },
   "source": [
    "## Classic search Algorithm"
   ]
  },
  {
   "cell_type": "code",
   "execution_count": 8,
   "metadata": {
    "collapsed": false
   },
   "outputs": [
    {
     "name": "stdout",
     "output_type": "stream",
     "text": [
      "found\n"
     ]
    }
   ],
   "source": [
    "class Search:\n",
    "    x = [1,34,12,32,3,23,32,445,554,234,234,433,343,39,94,65,59,55,77,454]\n",
    "    def linear(self, key):\n",
    "        flag = False\n",
    "        for i in self.x:\n",
    "            if key != i:\n",
    "                continue\n",
    "            else:\n",
    "                flag = True\n",
    "                break\n",
    "        if flag == True:\n",
    "            print('found')\n",
    "        else:\n",
    "            print('Not Found')\n",
    "    \n",
    "a = Search()\n",
    "a.linear(34)"
   ]
  },
  {
   "cell_type": "markdown",
   "metadata": {},
   "source": [
    "## Binary Search Algorithm"
   ]
  },
  {
   "cell_type": "code",
   "execution_count": 5,
   "metadata": {
    "collapsed": false
   },
   "outputs": [
    {
     "data": {
      "text/plain": [
       "'Not Found'"
      ]
     },
     "execution_count": 5,
     "metadata": {},
     "output_type": "execute_result"
    }
   ],
   "source": [
    "import math\n",
    "class SearchAdv: \n",
    "    b = [2,9,11,15,21,40,67]\n",
    "    def binSearch(self, low, high, key):\n",
    "        #while (low <= high and self.flag == False):    # run tis code as long as low<=high and the key is not found\n",
    "            mid = (low + high)//2\n",
    "            if high - low < 0:\n",
    "                return 'Not Found'\n",
    "            elif key == self.b[mid]:\n",
    "                return 'Found'\n",
    "            elif key < self.b[mid] :\n",
    "                high = mid - 1\n",
    "                return self.binSearch(low, high, key)\n",
    "            elif key > self.b[mid] :\n",
    "                low = mid + 1\n",
    "                return self.binSearch(low, high, key)\n",
    "        #if self.flag == True:\n",
    "         #   print('found')\n",
    "        #else:\n",
    "         #   print('Not Found')\n",
    "        \n",
    "obj1 = SearchAdv()\n",
    "obj1.binSearch(0,6,20)"
   ]
  },
  {
   "cell_type": "markdown",
   "metadata": {},
   "source": [
    "## BubbleSort Algorithm"
   ]
  },
  {
   "cell_type": "code",
   "execution_count": 2,
   "metadata": {
    "collapsed": false
   },
   "outputs": [
    {
     "name": "stdout",
     "output_type": "stream",
     "text": [
      "sorted array = [-1, 1, 12, 14, 20, 33, 41, 76]\n"
     ]
    }
   ],
   "source": [
    "class Sort:\n",
    "    \n",
    "    def bubbleSort(self, ar, size):\n",
    "        for i in range(size,0,-1):\n",
    "            #print(\"i = \",i)\n",
    "            for j in range(0, i-1):\n",
    "                #print(\"j =\",j)\n",
    "                if ar[j] > ar[j+1]:\n",
    "                    temp = ar[j]\n",
    "                    ar[j] = ar[j+1]\n",
    "                    ar[j+1] = temp\n",
    "        print(\"sorted array =\", ar)\n",
    "obj2 = Sort()\n",
    "array = [1,20,14,12,76,33,41,-1]\n",
    "obj2.bubbleSort(array, len(array))                    "
   ]
  },
  {
   "cell_type": "markdown",
   "metadata": {
    "collapsed": true
   },
   "source": [
    "## UnionFind Algorithm"
   ]
  },
  {
   "cell_type": "code",
   "execution_count": 15,
   "metadata": {
    "collapsed": false
   },
   "outputs": [],
   "source": [
    "class UnionFindUf:    \n",
    "    def __init__(self, N):\n",
    "        self.N = N\n",
    "        for i in (0,N-1):\n",
    "            self.N = i\n",
    "    def connected(p,q):\n",
    "        return N[p] == N[q];\n",
    "    def union(p,q):\n",
    "        pid = N[p]\n",
    "        qid = N[q]\n",
    "        for i in (0, (len(N) - 1)):\n",
    "            if (N[i] == pid):\n",
    "                N[i] = qid\n",
    "\n",
    "                "
   ]
  },
  {
   "cell_type": "markdown",
   "metadata": {
    "collapsed": false
   },
   "source": [
    "## MergeSort Algorithm"
   ]
  },
  {
   "cell_type": "code",
   "execution_count": null,
   "metadata": {
    "collapsed": true
   },
   "outputs": [],
   "source": []
  }
 ],
 "metadata": {
  "anaconda-cloud": {},
  "kernelspec": {
   "display_name": "Python [conda root]",
   "language": "python",
   "name": "conda-root-py"
  },
  "language_info": {
   "codemirror_mode": {
    "name": "ipython",
    "version": 3
   },
   "file_extension": ".py",
   "mimetype": "text/x-python",
   "name": "python",
   "nbconvert_exporter": "python",
   "pygments_lexer": "ipython3",
   "version": "3.5.2"
  }
 },
 "nbformat": 4,
 "nbformat_minor": 1
}
